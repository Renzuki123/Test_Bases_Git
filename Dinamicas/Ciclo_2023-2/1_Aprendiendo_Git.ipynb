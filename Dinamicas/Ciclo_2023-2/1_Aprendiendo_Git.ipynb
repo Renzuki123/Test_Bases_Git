{
 "cells": [
  {
   "cell_type": "markdown",
   "metadata": {},
   "source": [
    "DINAMICA GRUPAL\n",
    "\n",
    "CIAnuritos, haremos la siguiente dinámica grupal para aprender las bases de git :D\n",
    "\n",
    "Responder con prints:\n",
    "- 1. ¿Cómo te llamas?\n",
    "\n",
    "- 2. ¿En qué ciclo te encuentras?\n",
    "\n",
    "- 3. ¿Te gusta el CIA?"
   ]
  },
  {
   "cell_type": "code",
   "execution_count": 4,
   "metadata": {},
   "outputs": [
    {
     "name": "stdout",
     "output_type": "stream",
     "text": [
      "1. Soy Renzo Saucedo\n",
      "2. Estoy en 8vo ciclo\n",
      "3. Me gusta mucho el CIA\n"
     ]
    }
   ],
   "source": [
    "print(\"1. Soy Renzo Saucedo\\n2. Estoy en 8vo ciclo\\n3. Me gusta mucho el CIA\")"
   ]
  },
  {
   "cell_type": "code",
   "execution_count": 5,
   "metadata": {},
   "outputs": [
    {
     "name": "stdout",
     "output_type": "stream",
     "text": [
      "1. Soy Gabriel Tineo\n",
      "2. Estoy en 5to ciclo\n",
      ". Asies, me gusta el CIA\n"
     ]
    }
   ],
   "source": [
    "print(\"1. Soy Gabriel Tineo\\n2. Estoy en 5to ciclo\\n. Asies, me gusta el CIA\")"
   ]
  },
  {
   "cell_type": "code",
   "execution_count": 1,
   "metadata": {},
   "outputs": [
    {
     "name": "stdout",
     "output_type": "stream",
     "text": [
      "1. Soy Fernando Garcia\n",
      "2. Estoy en 4to ciclo\n",
      "3. Estoy en el CIA\n"
     ]
    }
   ],
   "source": [
    "print(\"1. Soy Fernando Garcia\\n2. Estoy en 4to ciclo\\n3. Estoy en el CIA\")"
   ]
  }
 ],
 "metadata": {
  "kernelspec": {
   "display_name": "Python 3",
   "language": "python",
   "name": "python3"
  },
  "language_info": {
   "codemirror_mode": {
    "name": "ipython",
    "version": 3
   },
   "file_extension": ".py",
   "mimetype": "text/x-python",
   "name": "python",
   "nbconvert_exporter": "python",
   "pygments_lexer": "ipython3",
   "version": "3.10.6"
  }
 },
 "nbformat": 4,
 "nbformat_minor": 2
}
